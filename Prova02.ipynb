{
 "cells": [
  {
   "cell_type": "code",
   "execution_count": null,
   "id": "0d0dcab6-adcf-447e-b788-4d776888cbdc",
   "metadata": {},
   "outputs": [],
   "source": [
    "''Dado o código a seguir que implementa o algoritmo de ordenação por seleção (selection sort), adicione um método para \n",
    "encontrar e exibir o maior elemento da lista ordenada.''"
   ]
  },
  {
   "cell_type": "code",
   "execution_count": 2,
   "id": "a7216842-e75c-4f91-aaf7-539dad1716ec",
   "metadata": {},
   "outputs": [
    {
     "name": "stdout",
     "output_type": "stream",
     "text": [
      "Lista original:  [29, 10, 14, 37, 13]\n",
      "Lista ordenada:  [10, 13, 14, 29, 37]\n",
      "Maior elemento:  37\n"
     ]
    }
   ],
   "source": [
    "# Método para encontrar e exibir o maior elemento\n",
    "def find_max(arr):\n",
    "    if arr:\n",
    "        return arr[-1]  \n",
    "    return None\n",
    "\n",
    "def selection_sort(arr):\n",
    "    for i in range(len(arr)):\n",
    "        min_idx = i\n",
    "        for j in range(i + 1, len(arr)):\n",
    "            if arr[j] < arr[min_idx]:\n",
    "                min_idx = j\n",
    "        arr[i], arr[min_idx] = arr[min_idx], arr[i]\n",
    "    return arr\n",
    "\n",
    "# lista\n",
    "lista = [29, 10, 14, 37, 13]\n",
    "print(\"Lista original: \", lista)\n",
    "\n",
    "sorted_list = selection_sort(lista)\n",
    "print(\"Lista ordenada: \", sorted_list)\n",
    "\n",
    "# Maior elemento\n",
    "print(\"Maior elemento: \", find_max(sorted_list))\n"
   ]
  },
  {
   "cell_type": "code",
   "execution_count": null,
   "id": "37cab552-819c-4f66-a7bd-21a5a4491b16",
   "metadata": {},
   "outputs": [],
   "source": []
  }
 ],
 "metadata": {
  "kernelspec": {
   "display_name": "Python 3 (ipykernel)",
   "language": "python",
   "name": "python3"
  },
  "language_info": {
   "codemirror_mode": {
    "name": "ipython",
    "version": 3
   },
   "file_extension": ".py",
   "mimetype": "text/x-python",
   "name": "python",
   "nbconvert_exporter": "python",
   "pygments_lexer": "ipython3",
   "version": "3.12.4"
  }
 },
 "nbformat": 4,
 "nbformat_minor": 5
}
